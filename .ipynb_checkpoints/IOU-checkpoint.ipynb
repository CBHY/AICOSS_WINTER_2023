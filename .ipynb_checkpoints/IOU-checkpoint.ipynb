{
 "cells": [
  {
   "cell_type": "code",
   "execution_count": 4,
   "id": "f32c1893",
   "metadata": {},
   "outputs": [],
   "source": [
    "def IOU(f_bb,person_detection):\n",
    "    ln = len(f_bb)\n",
    "    a = 0\n",
    "    for b in range(ln):\n",
    "\n",
    "\n",
    "        face_list = []\n",
    "        person_list = []\n",
    "\n",
    "        face_list.clear() #list에 저장된 값 지우기\n",
    "        person_list.clear()\n",
    "        #print(face_list)\n",
    "        #print(person_list)\n",
    "        #print(a)\n",
    "        #for a in len(f_bb):\n",
    "        face_list.append(f_bb[a][1]) # 첫번째 []의  중심 x값, index = 0\n",
    "        face_list.append(f_bb[a][2]) # 첫번째 []의 중심 y값, index = 1\n",
    "        face_list.append(f_bb[a][3]) # 첫번째 []의 w값, index = 2\n",
    "        face_list.append(f_bb[a][4]) # 첫번째 []의 h값, index = 3\n",
    "        #a +=1\n",
    "\n",
    "        #for b in len(person_detection):\n",
    "        person_list.append(person_detection[a][0]) # 첫번째 []의 중심 x값 ,index = 0\n",
    "        person_list.append(person_detection[a][1]) # 첫번째 []의 중심 y값, index = 1\n",
    "        person_list.append(person_detection[a][2]) # 첫번째 []의 w값, index = 2\n",
    "        person_list.append(person_detection[a][3]) # 첫번째 []의 h값, index = 3\n",
    "        \n",
    "        #각각의 BB\n",
    "        box1 = [face_list[0]-0.5*face_list[2],face_list[1]-0.5*face_list[3],\n",
    "                face_list[0]+0.5*face_list[2],face_list[1]+0.5*face_list[3]] #yolov7-face [x1,y1,x2,y2]\n",
    "        box2 = [person_list[0]-0.5*person_list[2],person_list[1]-0.5*person_list[3],\n",
    "                person_list[0]+0.5*person_list[2],person_list[1]+0.5*person_list[3]] #mmdetection [x1,y1,x2,y2] \n",
    "        box1_area = (box1[2]-box1[0])*(box1[3]-box1[1])\n",
    "        box2_area = (box2[2]-box2[0])*(box2[3]-box2[1])\n",
    "\n",
    "        #intersection BB의 좌표 구하기\n",
    "        x1 = max(box1[0],box2[0])\n",
    "        y1 = max(box1[1],box2[1])\n",
    "        x2 = min(box1[2],box2[2])\n",
    "        y2 = min(box1[3],box2[3])\n",
    "\n",
    "        # intersection BB의 width,height\n",
    "        w = max(0,x2-x1) \n",
    "        h = max(0,y2-y1)\n",
    "\n",
    "        inter = w*h\n",
    "        iou = inter / (box1_area + box2_area - inter)\n",
    "         \n",
    "        print(iou)\n",
    "        a+=1\n",
    "    #return iou"
   ]
  },
  {
   "cell_type": "code",
   "execution_count": 5,
   "id": "b47c90c5",
   "metadata": {},
   "outputs": [
    {
     "name": "stdout",
     "output_type": "stream",
     "text": [
      "0.03387362923445397\n",
      "0.03296200896761861\n",
      "0.03218573311167049\n",
      "0.03911851705652268\n"
     ]
    }
   ],
   "source": [
    "f_bb = [[0,0.12910909090909092,0.10703225806451613,0.05065454545454545 ,0.11241935483870968],[0,0.39354545454545453,0.10361290322580645,0.0506,0.11338709677419355],[0,0.6400727272727273,0.12070967741935484,0.0434,0.11045161290322582],[0,0.8943272727272727,0.11193548387096774,0.04721818181818182,0.11435483870967743]]\n",
    "person_detection = [[0.11505454545454545,0.510741935483871,0.1746,0.9628387096774195],[0.39298181818181815,0.5122258064516129,0.18281818181818182,0.9520967741935483],[0.6447636363636363,0.5166129032258064,0.15854545454545454,0.9393870967741935],[0.8943272727272727,0.5131935483870967,0.14527272727272728,0.9501612903225807]]\n",
    "\n",
    "IOU(f_bb,person_detection)"
   ]
  }
 ],
 "metadata": {
  "kernelspec": {
   "display_name": "Python 3 (ipykernel)",
   "language": "python",
   "name": "python3"
  },
  "language_info": {
   "codemirror_mode": {
    "name": "ipython",
    "version": 3
   },
   "file_extension": ".py",
   "mimetype": "text/x-python",
   "name": "python",
   "nbconvert_exporter": "python",
   "pygments_lexer": "ipython3",
   "version": "3.9.12"
  }
 },
 "nbformat": 4,
 "nbformat_minor": 5
}
